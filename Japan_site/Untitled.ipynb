{
 "cells": [
  {
   "cell_type": "markdown",
   "id": "987e8aab-823f-4f6b-8fe1-a56f8b75950c",
   "metadata": {},
   "source": [
    "idée:https://zenmarket.jp/en/blog/post/10330/where-to-buy-japanese-street-fashion"
   ]
  },
  {
   "cell_type": "code",
   "execution_count": null,
   "id": "94c5b0db-8967-4fb6-8dd4-a55c9c86a76e",
   "metadata": {},
   "outputs": [],
   "source": []
  }
 ],
 "metadata": {
  "kernelspec": {
   "display_name": "Python 3 (ipykernel)",
   "language": "python",
   "name": "python3"
  },
  "language_info": {
   "codemirror_mode": {
    "name": "ipython",
    "version": 3
   },
   "file_extension": ".py",
   "mimetype": "text/x-python",
   "name": "python",
   "nbconvert_exporter": "python",
   "pygments_lexer": "ipython3",
   "version": "3.9.13"
  }
 },
 "nbformat": 4,
 "nbformat_minor": 5
}
