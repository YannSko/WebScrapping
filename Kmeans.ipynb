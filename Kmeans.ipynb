{
 "cells": [
  {
   "cell_type": "code",
   "execution_count": 1,
   "id": "662da990-1df5-43d4-a33d-18c6dcd74377",
   "metadata": {},
   "outputs": [],
   "source": [
    "from selenium import webdriver\n",
    "from selenium.webdriver.common.keys import Keys\n",
    "from selenium.webdriver.support.ui import WebDriverWait\n",
    "from selenium.webdriver.common.by import By\n",
    "from selenium.webdriver.support import expected_conditions as EC\n",
    "import pandas as pd\n",
    "from bs4 import BeautifulSoup\n",
    "import urllib\n",
    "import re\n",
    "import requests\n",
    "import csv\n",
    "import time"
   ]
  },
  {
   "cell_type": "code",
   "execution_count": 7,
   "id": "5cc0d6e4-e950-4f7c-8237-1e1627f14dca",
   "metadata": {},
   "outputs": [
    {
     "name": "stdout",
     "output_type": "stream",
     "text": [
      "                                                    text\n",
      "0      This movie was horrible. If it had never been ...\n",
      "1      The director infuses this film with false dept...\n",
      "2      I don't get it! The teenage leads in \"Horror S...\n",
      "3      This is the fifth part of 'The Animatrix', a c...\n",
      "4      I was very impressed with with this film which...\n",
      "...                                                  ...\n",
      "10996  In the wake of my personal research into the p...\n",
      "10997  I had a bit of hope for this hour long film ma...\n",
      "10998  Having been pleasantly surprised by Sandra Bul...\n",
      "10999  Elfriede Jelinek, not quite a household name y...\n",
      "11000  There's something rotten about this film, and ...\n",
      "\n",
      "[11001 rows x 1 columns]\n"
     ]
    }
   ],
   "source": [
    "df = pd.read_csv(\"./DataSet Sentiment analyse/train.csv\")\n",
    "df1 = pd.read_csv(\"./DataSet Sentiment analyse/test.csv\")\n",
    "#0 = positive\n",
    "#1 = negativ\n",
    "print(df1)"
   ]
  },
  {
   "cell_type": "code",
   "execution_count": null,
   "id": "6bbcca08-df19-4fde-ae30-1c1d6735a23f",
   "metadata": {},
   "outputs": [],
   "source": [
    "#kmeans"
   ]
  }
 ],
 "metadata": {
  "kernelspec": {
   "display_name": "Python 3 (ipykernel)",
   "language": "python",
   "name": "python3"
  },
  "language_info": {
   "codemirror_mode": {
    "name": "ipython",
    "version": 3
   },
   "file_extension": ".py",
   "mimetype": "text/x-python",
   "name": "python",
   "nbconvert_exporter": "python",
   "pygments_lexer": "ipython3",
   "version": "3.9.13"
  }
 },
 "nbformat": 4,
 "nbformat_minor": 5
}
